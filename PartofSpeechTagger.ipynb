{
 "cells": [
  {
   "cell_type": "markdown",
   "metadata": {},
   "source": [
    "# Part of Speech Tagger:"
   ]
  },
  {
   "cell_type": "markdown",
   "metadata": {},
   "source": [
    "### By: Sabah Ibrahim"
   ]
  },
  {
   "cell_type": "markdown",
   "metadata": {},
   "source": [
    "#### We will be implementing the tagger using two machine learning models that we are familar with: Naïve Bayes and Decision Tree classifier. We will later be accessing the models using precision, recall, accuracy, and F-measure."
   ]
  },
  {
   "cell_type": "code",
   "execution_count": 5,
   "metadata": {},
   "outputs": [
    {
     "name": "stdout",
     "output_type": "stream",
     "text": [
      "Collecting sklearn\n",
      "  Downloading sklearn-0.0.tar.gz (1.1 kB)\n",
      "Collecting scikit-learn\n",
      "  Downloading scikit_learn-0.24.1-cp39-cp39-macosx_10_13_x86_64.whl (7.3 MB)\n",
      "\u001b[K     |████████████████████████████████| 7.3 MB 8.4 MB/s eta 0:00:01\n",
      "\u001b[?25hCollecting threadpoolctl>=2.0.0\n",
      "  Downloading threadpoolctl-2.1.0-py3-none-any.whl (12 kB)\n",
      "Requirement already satisfied: scipy>=0.19.1 in /usr/local/lib/python3.9/site-packages (from scikit-learn->sklearn) (1.6.0)\n",
      "Collecting joblib>=0.11\n",
      "  Downloading joblib-1.0.1-py3-none-any.whl (303 kB)\n",
      "\u001b[K     |████████████████████████████████| 303 kB 8.3 MB/s eta 0:00:01\n",
      "\u001b[?25hRequirement already satisfied: numpy>=1.13.3 in /usr/local/lib/python3.9/site-packages (from scikit-learn->sklearn) (1.20.1)\n",
      "Building wheels for collected packages: sklearn\n",
      "  Building wheel for sklearn (setup.py) ... \u001b[?25ldone\n",
      "\u001b[?25h  Created wheel for sklearn: filename=sklearn-0.0-py2.py3-none-any.whl size=1316 sha256=7a47303d881d0c15b4f477b56fac80f5aa1621448409dc3f8720f6807a8d93b9\n",
      "  Stored in directory: /Users/sabahibrahim/Library/Caches/pip/wheels/e4/7b/98/b6466d71b8d738a0c547008b9eb39bf8676d1ff6ca4b22af1c\n",
      "Successfully built sklearn\n",
      "Installing collected packages: threadpoolctl, joblib, scikit-learn, sklearn\n",
      "Successfully installed joblib-1.0.1 scikit-learn-0.24.1 sklearn-0.0 threadpoolctl-2.1.0\n"
     ]
    }
   ],
   "source": [
    "!pip install sklearn"
   ]
  },
  {
   "cell_type": "code",
   "execution_count": 13,
   "metadata": {},
   "outputs": [],
   "source": [
    "# Import statements\n",
    "import numpy as np\n",
    "import pandas as pd\n",
    "import scipy\n",
    "import warnings\n",
    "from sklearn.model_selection import KFold\n",
    "from sklearn.naive_bayes import GaussianNB\n",
    "from sklearn.tree import DecisionTreeClassifier\n",
    "from sklearn.metrics import precision_recall_fscore_support\n",
    "from sklearn.feature_extraction.text import TfidfVectorizer\n",
    "from sklearn.metrics import f1_score, precision_score, recall_score, accuracy_score\n",
    "from sklearn.feature_extraction.text import CountVectorizer\n",
    "from sklearn import preprocessing\n",
    "from sklearn.feature_extraction.text import TfidfVectorizer\n",
    "warnings.filterwarnings('ignore')"
   ]
  },
  {
   "cell_type": "code",
   "execution_count": 14,
   "metadata": {},
   "outputs": [],
   "source": [
    "# Define a function to take as input training and testing vectors and labels\n",
    "# Allow this to be extensible to let multiple classifiers be used here\n",
    "def buildClassifiers(clf, X_train, X_test, y_train, y_test):\n",
    "\n",
    "    clf.fit(X_train, y_train)\n",
    "    y_pred = clf.predict(X_test)\n",
    "\n",
    "    f1 = f1_score(y_test, y_pred, average=\"macro\", zero_division=0)\n",
    "    precision = precision_score(y_test, y_pred, average=\"macro\", zero_division=0)\n",
    "    recall = recall_score(y_test, y_pred, average=\"macro\", zero_division=0)\n",
    "    accuracy = accuracy_score(y_test, y_pred)\n",
    "    \n",
    "    return f1, precision, recall, accuracy"
   ]
  },
  {
   "cell_type": "code",
   "execution_count": 15,
   "metadata": {},
   "outputs": [],
   "source": [
    "def labelCoder():\n",
    "    # load dataset and using LabelEncoder on it\n",
    "    df = pd.read_csv('../DATA/pos-eng-5000.data.csv')\n",
    "    labels = np.asarray(df['class'].astype(\"category\").cat.codes.tolist())\n",
    "    X_vals = df.drop(columns=['class']).values\n",
    "    le = preprocessing.LabelEncoder()\n",
    "    le.fit(X_vals.ravel())\n",
    "    X = le.transform(X_vals.ravel())\n",
    "    X = X.reshape(5000, -1)\n",
    "    return X, labels\n",
    "\n",
    "def oneHotcoder():\n",
    "    # load dataset and using onehotencoder on it\n",
    "    df = pd.read_csv('../DATA/pos-eng-5000.data.csv')\n",
    "    labels = np.asarray(df['class'].astype(\"category\").cat.codes.tolist())\n",
    "    X_vals = df.drop(columns=['class']).values\n",
    "    OneEncoder = preprocessing.OneHotEncoder(handle_unknown='ignore')\n",
    "    X = OneEncoder.fit_transform(X_vals)\n",
    "    return X, labels"
   ]
  },
  {
   "cell_type": "code",
   "execution_count": 18,
   "metadata": {},
   "outputs": [
    {
     "name": "stdout",
     "output_type": "stream",
     "text": [
      "  (0, 524)\t1.0\n",
      "  (0, 2372)\t1.0\n",
      "  (0, 4303)\t1.0\n",
      "  (0, 6275)\t1.0\n",
      "  (0, 8463)\t1.0\n",
      "  (0, 11208)\t1.0\n",
      "  (0, 12238)\t1.0\n",
      "  (1, 524)\t1.0\n",
      "  (1, 2372)\t1.0\n",
      "  (1, 4243)\t1.0\n",
      "  (1, 6514)\t1.0\n",
      "  (1, 9338)\t1.0\n",
      "  (1, 10408)\t1.0\n",
      "  (1, 11921)\t1.0\n",
      "  (2, 524)\t1.0\n",
      "  (2, 2314)\t1.0\n",
      "  (2, 4483)\t1.0\n",
      "  (2, 7389)\t1.0\n",
      "  (2, 8507)\t1.0\n",
      "  (2, 10077)\t1.0\n",
      "  (2, 12029)\t1.0\n",
      "  (3, 469)\t1.0\n",
      "  (3, 2542)\t1.0\n",
      "  (3, 5358)\t1.0\n",
      "  (3, 6558)\t1.0\n",
      "  :\t:\n",
      "  (4996, 6336)\t1.0\n",
      "  (4996, 8799)\t1.0\n",
      "  (4996, 10077)\t1.0\n",
      "  (4996, 12029)\t1.0\n",
      "  (4997, 1558)\t1.0\n",
      "  (4997, 2960)\t1.0\n",
      "  (4997, 4305)\t1.0\n",
      "  (4997, 6850)\t1.0\n",
      "  (4997, 8154)\t1.0\n",
      "  (4997, 10192)\t1.0\n",
      "  (4997, 12029)\t1.0\n",
      "  (4998, 1092)\t1.0\n",
      "  (4998, 2374)\t1.0\n",
      "  (4998, 4819)\t1.0\n",
      "  (4998, 6180)\t1.0\n",
      "  (4998, 8283)\t1.0\n",
      "  (4998, 10192)\t1.0\n",
      "  (4998, 12029)\t1.0\n",
      "  (4999, 524)\t1.0\n",
      "  (4999, 2372)\t1.0\n",
      "  (4999, 4303)\t1.0\n",
      "  (4999, 6057)\t1.0\n",
      "  (4999, 8648)\t1.0\n",
      "  (4999, 11264)\t1.0\n",
      "  (4999, 13246)\t1.0\n"
     ]
    }
   ],
   "source": [
    "print(X)"
   ]
  },
  {
   "cell_type": "code",
   "execution_count": 16,
   "metadata": {},
   "outputs": [
    {
     "name": "stdout",
     "output_type": "stream",
     "text": [
      "Using Label Encoder to encode data\n",
      "\tNow classifying Naive_Bayes\n",
      "\t\tAverage F1 for Naive_Bayes:\t\t\t 0.1971408187484808\n",
      "\t\tAverage Precision for Naive_Bayes:\t\t 0.2093715178546595\n",
      "\t\tAverage Recall for Naive_Bayes:\t\t\t 0.22279109863401877\n",
      "\t\tAverage Accuracy for Naive_Bayes:\t\t 0.3302\n",
      "\tNow classifying Decision_Tree\n",
      "\t\tAverage F1 for Decision_Tree:\t\t\t 0.5290256210488556\n",
      "\t\tAverage Precision for Decision_Tree:\t\t 0.5412105896978388\n",
      "\t\tAverage Recall for Decision_Tree:\t\t 0.5529607536411726\n",
      "\t\tAverage Accuracy for Decision_Tree:\t\t 0.6068\n",
      "\n",
      "\n",
      "Using One Hot Encoder to encode data\n",
      "\tNow classifying Naive_Bayes\n",
      "\t\tAverage F1 for Naive_Bayes:\t\t\t 0.3319224059618128\n",
      "\t\tAverage Precision for Naive_Bayes:\t\t 0.35597903480660686\n",
      "\t\tAverage Recall for Naive_Bayes:\t\t\t 0.35709881540400923\n",
      "\t\tAverage Accuracy for Naive_Bayes:\t\t 0.479\n",
      "\tNow classifying Decision_Tree\n",
      "\t\tAverage F1 for Decision_Tree:\t\t\t 0.5701112958599887\n",
      "\t\tAverage Precision for Decision_Tree:\t\t 0.6320625345485358\n",
      "\t\tAverage Recall for Decision_Tree:\t\t 0.5497331072828084\n",
      "\t\tAverage Accuracy for Decision_Tree:\t\t 0.6216\n"
     ]
    }
   ],
   "source": [
    "# Construct the classifiers at hand prior to folding the data through them\n",
    "X, labels = labelCoder()\n",
    "names = ['Naive_Bayes', 'Decision_Tree']\n",
    "classifiers = [GaussianNB(), \n",
    "               DecisionTreeClassifier(random_state=0)]\n",
    "print(\"Using Label Encoder to encode data\")\n",
    "for name, clf in zip(names, classifiers):\n",
    "    print('\\tNow classifying', name)\n",
    "\n",
    "    # Fold the data 5 times\n",
    "    kf = KFold(n_splits = 5)\n",
    "    foldCounter = 0\n",
    "    aList, bList, cList, dList = list(), list(), list(), list()\n",
    "    for train_index, test_index in kf.split(X):\n",
    "        X_train, X_test = X[train_index], X[test_index]\n",
    "        y_train, y_test = labels[train_index], labels[test_index]\n",
    "\n",
    "        f1, precision, recall, accuracy = buildClassifiers(clf, X_train, X_test, y_train, y_test)\n",
    "        aList.append(f1)\n",
    "        bList.append(precision)\n",
    "        cList.append(recall)\n",
    "        dList.append(accuracy)\n",
    "\n",
    "   \n",
    "    print(\"\\t\\tAverage F1 for {}:\\t\\t\\t\".format(name), np.mean(aList))\n",
    "    print(\"\\t\\tAverage Precision for {}:\\t\\t\".format(name), np.mean(bList))\n",
    "    if (name == 'Decision_Tree'):\n",
    "        print(\"\\t\\tAverage Recall for {}:\\t\\t\".format(name), np.mean(cList))\n",
    "    else:\n",
    "        print(\"\\t\\tAverage Recall for {}:\\t\\t\\t\".format(name), np.mean(cList))\n",
    "    print(\"\\t\\tAverage Accuracy for {}:\\t\\t\".format(name), np.mean(dList))\n",
    "\n",
    "print('\\n')\n",
    "X, labels = oneHotcoder()\n",
    "names = ['Naive_Bayes', 'Decision_Tree']\n",
    "classifiers = [GaussianNB(), \n",
    "               DecisionTreeClassifier(random_state=0)]\n",
    "print(\"Using One Hot Encoder to encode data\")\n",
    "for name, clf in zip(names, classifiers):\n",
    "\n",
    "    print('\\tNow classifying', name)\n",
    "\n",
    "    # Fold the data 5 times\n",
    "    kf = KFold(n_splits = 5)\n",
    "    foldCounter = 0\n",
    "    aList, bList, cList, dList = list(), list(), list(), list()\n",
    "    for train_index, test_index in kf.split(X):\n",
    "        X_train, X_test = X[train_index], X[test_index]\n",
    "        y_train, y_test = labels[train_index], labels[test_index]\n",
    "\n",
    "        f1, precision, recall, accuracy = buildClassifiers(clf, X_train.toarray(), X_test.toarray(), y_train, y_test)\n",
    "        aList.append(f1)\n",
    "        bList.append(precision)\n",
    "        cList.append(recall)\n",
    "        dList.append(accuracy)\n",
    "\n",
    "    print(\"\\t\\tAverage F1 for {}:\\t\\t\\t\".format(name), np.mean(aList))\n",
    "    print(\"\\t\\tAverage Precision for {}:\\t\\t\".format(name), np.mean(bList))\n",
    "    if (name == 'Decision_Tree'):\n",
    "        print(\"\\t\\tAverage Recall for {}:\\t\\t\".format(name), np.mean(cList))\n",
    "    else:\n",
    "        print(\"\\t\\tAverage Recall for {}:\\t\\t\\t\".format(name), np.mean(cList))\n",
    "    print(\"\\t\\tAverage Accuracy for {}:\\t\\t\".format(name), np.mean(dList))"
   ]
  },
  {
   "cell_type": "code",
   "execution_count": null,
   "metadata": {},
   "outputs": [],
   "source": []
  },
  {
   "cell_type": "code",
   "execution_count": null,
   "metadata": {},
   "outputs": [],
   "source": []
  }
 ],
 "metadata": {
  "kernelspec": {
   "display_name": "Python 3",
   "language": "python",
   "name": "python3"
  },
  "language_info": {
   "codemirror_mode": {
    "name": "ipython",
    "version": 3
   },
   "file_extension": ".py",
   "mimetype": "text/x-python",
   "name": "python",
   "nbconvert_exporter": "python",
   "pygments_lexer": "ipython3",
   "version": "3.9.1"
  }
 },
 "nbformat": 4,
 "nbformat_minor": 2
}
